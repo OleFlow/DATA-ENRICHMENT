{
 "cells": [
  {
   "cell_type": "code",
   "execution_count": 29,
   "id": "254e40ae",
   "metadata": {},
   "outputs": [],
   "source": [
    "import requests\n",
    "import pandas as pd\n",
    "import gzip\n",
    "import json\n",
    "from datetime import datetime\n",
    "from time import sleep\n"
   ]
  },
  {
   "cell_type": "code",
   "execution_count": 30,
   "id": "1527bc30",
   "metadata": {},
   "outputs": [
    {
     "data": {
      "text/plain": [
       "dict_keys(['api-key'])"
      ]
     },
     "execution_count": 30,
     "metadata": {},
     "output_type": "execute_result"
    }
   ],
   "source": [
    "with open('secret/tmdb_api.json', 'r') as f:\n",
    "    login = json.load(f)\n",
    "## Display the keys of the loaded dict\n",
    "login.keys()"
   ]
  },
  {
   "cell_type": "code",
   "execution_count": 31,
   "id": "5a39c866",
   "metadata": {},
   "outputs": [],
   "source": [
    "#endpoint call to tmdb\n",
    "def tmdb_api_call(endpoint, params):\n",
    "    base_url = \"https://api.themoviedb.org/3\"\n",
    "    api_key = login[\"api-key\"]  \n",
    "    params[\"api_key\"] = api_key\n",
    "    response = requests.get(f\"{base_url}/{endpoint}\", params=params)\n",
    "    # Check if the response is not empty before attempting to decode as JSON\n",
    "    if response.text:\n",
    "        return response.json()\n",
    "    else:\n",
    "        return None \n",
    "\n",
    "#I found that this call returns a single page, in order to get all filtered movies, i have adjusted it to get all pages\n",
    "def tmdb_movies_api_call(endpoint, params):\n",
    "    base_url = \"https://api.themoviedb.org/3\"\n",
    "    api_key = login[\"api-key\"] \n",
    "    params[\"api_key\"] = api_key\n",
    "\n",
    "    results = []\n",
    "    page = 1\n",
    "    \n",
    "\n",
    "    while True:\n",
    "        params[\"page\"] = page\n",
    "        \n",
    "        response = requests.get(f\"{base_url}/{endpoint}\", params=params)\n",
    "        data = response.json()\n",
    "        if \"results\" in data:\n",
    "            results.extend(data[\"results\"])\n",
    "\n",
    "            # Check if there are more pages\n",
    "            if page <= data[\"total_pages\"]:\n",
    "                page += 1\n",
    "            else:\n",
    "                break\n",
    "        else:\n",
    "            break\n",
    "\n",
    "    return results\n"
   ]
  },
  {
   "cell_type": "code",
   "execution_count": 32,
   "id": "30bda225",
   "metadata": {},
   "outputs": [],
   "source": [
    "\n",
    "# Function to get movie details by ID\n",
    "def get_movie_details(movie_id):\n",
    "    endpoint = f\"movie/{movie_id}\"\n",
    "    params = {\"append_to_response\": \"credits\"}\n",
    "    return tmdb_api_call(endpoint, params)\n",
    "\n",
    "# Function to get movie details by ID\n",
    "def get_movie_mpaa_rating(movie_id):\n",
    "    endpoint = f\"movie/{movie_id}/releases\"\n",
    "    params = {}\n",
    "    return tmdb_api_call(endpoint, params)"
   ]
  },
  {
   "cell_type": "code",
   "execution_count": 33,
   "id": "a212c0a1",
   "metadata": {},
   "outputs": [],
   "source": [
    "#Function to get the certification information\n",
    "def add_certification(movie):\n",
    "    tmdb_api_key = login[\"api-key\"]\n",
    "    tmdb_movie_id = movie['id']  \n",
    "\n",
    "    url = f'https://api.themoviedb.org/3/movie/{tmdb_movie_id}?api_key={tmdb_api_key}&language=en-US'\n",
    "    response = requests.get(url)\n",
    "    if response.text:\n",
    "        data = response.json()\n",
    "    else:\n",
    "        return None \n",
    "    data = {}\n",
    "\n",
    "    # Extract MPAA Rating (Certification) and add it to the movie info\n",
    "    certification = data.get('certification', '')\n",
    "    movie['certification'] = certification\n",
    "\n",
    "    return movie"
   ]
  },
  {
   "cell_type": "code",
   "execution_count": 44,
   "id": "f82bba73",
   "metadata": {},
   "outputs": [],
   "source": [
    "# Function to extract and save movies based on specified criteria\n",
    "def extract_and_save_movies(start_year, end_year):\n",
    "    movies_data = []\n",
    "\n",
    "    for year in range(start_year, end_year + 1):\n",
    "        # Filter criterias for movies\n",
    "        endpoint = \"discover/movie\"\n",
    "        params = {\n",
    "            \"primary_release_year\": year,\n",
    "            \"include_adult\": False,\n",
    "            \"with_original_language\": \"en\",\n",
    "            \"with_runtime.gte\": 60,\n",
    "            \"with_genres\": \"\",\n",
    "            \"certification_country\": \"US\",\n",
    "            \"region\": \"US\",\n",
    "        }\n",
    "        \n",
    "\n",
    "        # Get the list of movies\n",
    "        results = tmdb_movies_api_call(endpoint, params)\n",
    "        for movie in results:\n",
    "            movie_id = movie[\"id\"]\n",
    "            # Get additional details for the movie\n",
    "            movie_details = get_movie_details(movie_id)\n",
    "            add_movie_details = get_movie_mpaa_rating(movie_id)\n",
    "            if (\n",
    "                movie_details.get(\"genres\")\n",
    "                and movie_details.get(\"runtime\")\n",
    "                and movie_details[\"runtime\"] >= 60\n",
    "                and \"Documentary\" not in [\n",
    "                    genre[\"name\"] for genre in movie_details.get(\"genres\", [])\n",
    "                ]\n",
    "                and movie_details.get(\"production_countries\", []) == [{\"iso_3166_1\": \"US\", \"name\": \"United States of America\"}]\n",
    "            ):\n",
    "                mpaa_rating = ''\n",
    "                additinal_movie = add_movie_details.get(\"countries\", [])\n",
    "                us_certification = next((movie_add_details['certification'] for movie_add_details in reversed(additinal_movie) if movie_add_details['iso_3166_1'] == 'US'), None)\n",
    "                certificate = add_certification(movie);\n",
    "                movie_info = {\n",
    "                    \"tconst\": movie_details.get(\"imdb_id\"),\n",
    "                    \"title\": movie_details.get(\"title\"),\n",
    "                    \"release_date\": movie_details.get(\"release_date\"),\n",
    "                    \"runtime\": movie_details.get(\"runtime\"),\n",
    "                    \"genres\": movie_details.get(\"genres\"),\n",
    "                    \"budget\": movie_details.get(\"budget\"),\n",
    "                    \"revenue\": movie_details.get(\"revenue\"),\n",
    "                    \"mpaa_rating\": us_certification,\n",
    "                    \"vote_average\": certificate['vote_average'],\n",
    "                    \"vote_count\": certificate['vote_count'],\n",
    "                    \"certificate\":certificate\n",
    "                }\n",
    "\n",
    "                movies_data.append(movie_info)\n",
    "                #writing the movie data into a json file\n",
    "                append_to_json(\"output.json\", movies_data)\n",
    "    # Save the data to a CSV file for each year\n",
    "    for year in range(start_year, end_year + 1):\n",
    "        year_data = [movie for movie in movies_data if movie[\"release_date\"].startswith(str(year))]\n",
    "        df = pd.DataFrame(year_data)\n",
    "        file_name = f\"movies_{year}.csv.gz\"\n",
    "        df.to_csv(file_name, index=False, compression=\"gzip\")\n",
    "       \n",
    "        \n",
    "       "
   ]
  },
  {
   "cell_type": "code",
   "execution_count": 45,
   "id": "ddf6ac99",
   "metadata": {},
   "outputs": [],
   "source": [
    "# Function to write into the jason file\n",
    "def append_to_json(file_path, data):\n",
    "    try:\n",
    "        with open(file_path, \"r\") as file:\n",
    "            json_data = json.load(file)\n",
    "    except (FileNotFoundError, json.JSONDecodeError):\n",
    "        # Handle the case when the file is empty or not found\n",
    "        json_data = []\n",
    "\n",
    "    json_data.extend(data)\n",
    "\n",
    "    with open(file_path, \"w\") as file:\n",
    "        json.dump(json_data, file, indent=2)\n",
    "        "
   ]
  },
  {
   "cell_type": "code",
   "execution_count": null,
   "id": "4a727347",
   "metadata": {},
   "outputs": [],
   "source": [
    "# Extract movies for 2000 and 2001 and save as JSON\n",
    "extract_and_save_movies(2000, 2001)"
   ]
  },
  {
   "cell_type": "code",
   "execution_count": 28,
   "id": "a3893eb8",
   "metadata": {},
   "outputs": [
    {
     "name": "stdout",
     "output_type": "stream",
     "text": [
      "Movie ID: tt0848228\n",
      "Title: The Avengers\n",
      "Overview: When an unexpected enemy emerges and threatens global safety and security, Nick Fury, director of the international peacekeeping agency known as S.H.I.E.L.D., finds himself in need of a team to pull the world back from the brink of disaster. Spanning the globe, a daring recruitment effort begins!\n",
      "Budget: 220000000\n",
      "Revenue: 1518815515\n",
      "Certification: None\n",
      "\n",
      "\n",
      "Movie ID: tt0332280\n",
      "Title: The Notebook\n",
      "Overview: An epic love story centered around an older man who reads aloud to a woman with Alzheimer's. From a faded notebook, the old man's words bring to life the story about a couple who is separated by World War II, and is then passionately reunited, seven years later, after they have taken different paths.\n",
      "Budget: 29000000\n",
      "Revenue: 115603229\n",
      "Certification: None\n",
      "\n",
      "\n"
     ]
    }
   ],
   "source": [
    "# Test movie IDs\n",
    "test_movie_ids = ['tt0848228', 'tt0332280']\n",
    "\n",
    "for movie_id in test_movie_ids:\n",
    "    movie_details = get_movie_details(movie_id)\n",
    "\n",
    "    if movie_details is not None:\n",
    "        print(f\"Movie ID: {movie_id}\")\n",
    "        print(f\"Title: {movie_details.get('title')}\")\n",
    "        print(f\"Overview: {movie_details.get('overview')}\")\n",
    "        print(f\"Budget: {movie_details.get('budget')}\")\n",
    "        print(f\"Revenue: {movie_details.get('revenue')}\")\n",
    "        print(f\"Certification: {movie_details.get('certification')}\")\n",
    "        print(\"\\n\")\n",
    "    else:\n",
    "        print(f\"Error retrieving details for movie ID {movie_id}\")"
   ]
  },
  {
   "cell_type": "code",
   "execution_count": null,
   "id": "61d46548",
   "metadata": {},
   "outputs": [],
   "source": []
  },
  {
   "cell_type": "code",
   "execution_count": null,
   "id": "8f74459b",
   "metadata": {},
   "outputs": [],
   "source": []
  }
 ],
 "metadata": {
  "kernelspec": {
   "display_name": "Python 3 (ipykernel)",
   "language": "python",
   "name": "python3"
  },
  "language_info": {
   "codemirror_mode": {
    "name": "ipython",
    "version": 3
   },
   "file_extension": ".py",
   "mimetype": "text/x-python",
   "name": "python",
   "nbconvert_exporter": "python",
   "pygments_lexer": "ipython3",
   "version": "3.11.5"
  }
 },
 "nbformat": 4,
 "nbformat_minor": 5
}
