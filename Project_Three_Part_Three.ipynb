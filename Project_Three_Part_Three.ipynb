{
 "cells": [
  {
   "cell_type": "code",
   "execution_count": 2,
   "id": "e22d534e",
   "metadata": {},
   "outputs": [],
   "source": [
    "import pandas as pd\n",
    "from sqlalchemy import create_engine, text, inspect,Column, Integer, String, MetaData, Table, Float,ForeignKey\n",
    "from sqlalchemy.orm import sessionmaker,relationship\n",
    "from sqlalchemy.exc import IntegrityError\n",
    "from sqlalchemy.ext.declarative import declarative_base\n",
    "\n",
    "import ast\n",
    "import pandas as pd\n",
    "import json"
   ]
  },
  {
   "cell_type": "code",
   "execution_count": 3,
   "id": "892743a4",
   "metadata": {},
   "outputs": [
    {
     "data": {
      "text/plain": [
       "dict_keys(['mysql_username', 'mysql_password', 'mysql_host'])"
      ]
     },
     "execution_count": 3,
     "metadata": {},
     "output_type": "execute_result"
    }
   ],
   "source": [
    "with open('secret/database_credentials.json', 'r') as f:\n",
    "    db = json.load(f)\n",
    "## Display the keys of the loaded dict\n",
    "db.keys()"
   ]
  },
  {
   "cell_type": "code",
   "execution_count": 4,
   "id": "c0780227",
   "metadata": {},
   "outputs": [],
   "source": [
    "#Database connection\n",
    "mysql_username = db['mysql_username']\n",
    "mysql_password = db['mysql_password']\n",
    "mysql_host = db['mysql_host']\n",
    "database_name = 'movies'\n",
    "\n",
    "# Creating a connection string\n",
    "connection_string = f\"mysql+mysqlconnector://{mysql_username}:{mysql_password}@{mysql_host}/{database_name}\"\n",
    "\n",
    "# Creating a SQLAlchemy engine\n",
    "engine = create_engine(connection_string)\n",
    "\n",
    "# Creating a connection\n",
    "connection = engine.connect()"
   ]
  },
  {
   "cell_type": "code",
   "execution_count": 84,
   "id": "647a46cd",
   "metadata": {},
   "outputs": [
    {
     "data": {
      "text/plain": [
       "<sqlalchemy.engine.cursor.CursorResult at 0x1595c6260>"
      ]
     },
     "execution_count": 84,
     "metadata": {},
     "output_type": "execute_result"
    }
   ],
   "source": [
    "# Create table title_basics\n",
    "create_title_basics_table_query = '''\n",
    "CREATE TABLE title_basics (\n",
    "    tconst VARCHAR(255) PRIMARY KEY,\n",
    "    primary_title VARCHAR(255),\n",
    "    start_year INT,\n",
    "    runtime_minutes INT\n",
    ");\n",
    "'''\n",
    "connection.execute(text(create_title_basics_table_query))\n"
   ]
  },
  {
   "cell_type": "code",
   "execution_count": 85,
   "id": "f23956e4",
   "metadata": {},
   "outputs": [
    {
     "data": {
      "text/plain": [
       "<sqlalchemy.engine.cursor.CursorResult at 0x1595c6380>"
      ]
     },
     "execution_count": 85,
     "metadata": {},
     "output_type": "execute_result"
    }
   ],
   "source": [
    "# Create table title_ratings\n",
    "create_title_ratings_table_query = '''\n",
    "CREATE TABLE title_ratings (\n",
    "    rating_id INT AUTO_INCREMENT PRIMARY KEY,\n",
    "    tconst VARCHAR(255),\n",
    "    FOREIGN KEY (tconst) REFERENCES title_basics(tconst),\n",
    "    average_rating FLOAT,\n",
    "    num_votes INT\n",
    ");\n",
    "'''\n",
    "connection.execute(text(create_title_ratings_table_query))"
   ]
  },
  {
   "cell_type": "code",
   "execution_count": 86,
   "id": "84f4c46a",
   "metadata": {},
   "outputs": [
    {
     "data": {
      "text/plain": [
       "<sqlalchemy.engine.cursor.CursorResult at 0x157e8fca0>"
      ]
     },
     "execution_count": 86,
     "metadata": {},
     "output_type": "execute_result"
    }
   ],
   "source": [
    "# Create table genres\n",
    "create_genres_table_query = '''\n",
    "CREATE TABLE genres (\n",
    "    genre_id INT AUTO_INCREMENT PRIMARY KEY,\n",
    "    genre_name VARCHAR(255) NOT NULL\n",
    ");\n",
    "'''\n",
    "connection.execute(text(create_genres_table_query))"
   ]
  },
  {
   "cell_type": "code",
   "execution_count": 87,
   "id": "b232c373",
   "metadata": {},
   "outputs": [
    {
     "data": {
      "text/plain": [
       "<sqlalchemy.engine.cursor.CursorResult at 0x1382b5000>"
      ]
     },
     "execution_count": 87,
     "metadata": {},
     "output_type": "execute_result"
    }
   ],
   "source": [
    "# Create table title_genres\n",
    "#The combination of title_id and genre_id is set as the primary key for the linking table.\n",
    "create_title_genres_table_query = '''\n",
    "CREATE TABLE title_genres (\n",
    "    title_id VARCHAR(255) REFERENCES title_basics(tconst),\n",
    "    genre_id INT REFERENCES genres(genre_id),\n",
    "    PRIMARY KEY (title_id, genre_id)\n",
    ");\n",
    "'''\n",
    "connection.execute(text(create_title_genres_table_query))"
   ]
  },
  {
   "cell_type": "code",
   "execution_count": 88,
   "id": "585f47f6",
   "metadata": {},
   "outputs": [
    {
     "data": {
      "text/plain": [
       "<sqlalchemy.engine.cursor.CursorResult at 0x1595c4760>"
      ]
     },
     "execution_count": 88,
     "metadata": {},
     "output_type": "execute_result"
    }
   ],
   "source": [
    "# Create table title_ratings\n",
    "create_title_ratings_table_query = '''\n",
    "ALTER TABLE title_genres DROP PRIMARY KEY;\n",
    "\n",
    "ALTER TABLE title_genres\n",
    "  ADD FOREIGN KEY (title_id) REFERENCES titles(tconst),\n",
    "  ADD FOREIGN KEY (genre_id) REFERENCES genres(genre_id);\n",
    "'''\n",
    "connection.execute(text(create_title_ratings_table_query))"
   ]
  },
  {
   "cell_type": "code",
   "execution_count": 91,
   "id": "0efed5ce",
   "metadata": {},
   "outputs": [
    {
     "data": {
      "text/plain": [
       "<sqlalchemy.engine.cursor.CursorResult at 0x1383b9ea0>"
      ]
     },
     "execution_count": 91,
     "metadata": {},
     "output_type": "execute_result"
    }
   ],
   "source": [
    "# Create table tmdb_data\n",
    "create_tmdb_data_table_query = '''\n",
    "CREATE TABLE tmdb_data (\n",
    "    tmdb_id INT AUTO_INCREMENT PRIMARY KEY,\n",
    "    tconst VARCHAR(255),\n",
    "    revenue DECIMAL(15, 2),\n",
    "    budget DECIMAL(15, 2),\n",
    "    mpaa_rating VARCHAR(10),\n",
    "    FOREIGN KEY (tconst) REFERENCES title_basics(tconst)\n",
    ");\n",
    "'''\n",
    "connection.execute(text(create_tmdb_data_table_query))"
   ]
  },
  {
   "cell_type": "code",
   "execution_count": 92,
   "id": "fbb8b64e",
   "metadata": {},
   "outputs": [
    {
     "name": "stdout",
     "output_type": "stream",
     "text": [
      "Table: genres\n",
      "  genre_id - INTEGER\n",
      "  genre_name - VARCHAR(255)\n",
      "\n",
      "\n",
      "Table: title_basics\n",
      "  tconst - VARCHAR(255)\n",
      "  primary_title - VARCHAR(255)\n",
      "  start_year - INTEGER\n",
      "  runtime_minutes - INTEGER\n",
      "\n",
      "\n",
      "Table: title_genres\n",
      "  title_id - VARCHAR(255)\n",
      "  genre_id - INTEGER\n",
      "\n",
      "\n",
      "Table: title_ratings\n",
      "  rating_id - INTEGER\n",
      "  tconst - VARCHAR(255)\n",
      "  average_rating - FLOAT\n",
      "  num_votes - INTEGER\n",
      "\n",
      "\n",
      "Table: tmdb_data\n",
      "  tmdb_id - INTEGER\n",
      "  tconst - VARCHAR(255)\n",
      "  revenue - DECIMAL(15, 2)\n",
      "  budget - DECIMAL(15, 2)\n",
      "  mpaa_rating - VARCHAR(10)\n",
      "\n",
      "\n"
     ]
    }
   ],
   "source": [
    "# Create an Inspector instance\n",
    "inspector = inspect(engine)\n",
    "\n",
    "# Get a list of table names\n",
    "table_names = inspector.get_table_names()\n",
    "\n",
    "# Iterate through the tables and print details\n",
    "for table_name in table_names:\n",
    "    print(f\"Table: {table_name}\")\n",
    "    columns = inspector.get_columns(table_name)\n",
    "    for column in columns:\n",
    "        print(f\"  {column['name']} - {column['type']}\")\n",
    "    print(\"\\n\")"
   ]
  },
  {
   "cell_type": "markdown",
   "id": "64212858",
   "metadata": {},
   "source": [
    "# Now we populate our tables"
   ]
  },
  {
   "cell_type": "code",
   "execution_count": 5,
   "id": "d6eea4e2",
   "metadata": {},
   "outputs": [],
   "source": [
    "# Load the CSV into a DataFrame\n",
    "csv_path = 'tmdb_results_combined.csv'\n",
    "df = pd.read_csv(csv_path, sep=';')\n",
    "# Remove duplicates based on the 'tconst' column\n",
    "df = df.drop_duplicates(subset=['tconst'])"
   ]
  },
  {
   "cell_type": "code",
   "execution_count": 6,
   "id": "de12f64e",
   "metadata": {},
   "outputs": [],
   "source": [
    "# Create a session to interact with the database\n",
    "Session = sessionmaker(bind=engine)\n",
    "session = Session()"
   ]
  },
  {
   "cell_type": "code",
   "execution_count": 95,
   "id": "e2efb1d3",
   "metadata": {},
   "outputs": [
    {
     "name": "stdout",
     "output_type": "stream",
     "text": [
      "('tt0035423', 'Kate & Leopold', 2001, 118)\n",
      "('tt0113026', 'The Fantasticks', 2000, 86)\n",
      "('tt0113092', 'For the Cause', 2000, 100)\n",
      "('tt0118589', 'Glitter', 2001, 104)\n",
      "('tt0118652', 'The Attic Expeditions', 2001, 100)\n"
     ]
    }
   ],
   "source": [
    "\n",
    "\n",
    "# Clean up the start_year column\n",
    "df['start_year'] = pd.to_datetime(df['release_date'], errors='coerce').dt.year\n",
    "\n",
    "# Convert start_year to just the year format\n",
    "df['start_year'] = df['start_year'].astype('Int64')\n",
    "\n",
    "\n",
    "insert_data_query = '''\n",
    "    INSERT INTO title_basics (tconst, primary_title, start_year, runtime_minutes)\n",
    "    VALUES (:tconst, :primary_title, :start_year, :runtime_minutes)\n",
    "'''\n",
    "\n",
    "\n",
    "for index, row in df.iterrows():\n",
    "    # Skip rows where 'tconst' is null or NaN\n",
    "    if pd.notna(row['tconst']):\n",
    "        data = {\n",
    "            'tconst': row['tconst'],\n",
    "            'primary_title': row['title'],\n",
    "            'start_year': row['start_year'] if pd.notna(row['start_year']) else None,\n",
    "            'runtime_minutes': int(row['runtime']) if pd.notna(row['runtime']) else None,\n",
    "        }\n",
    "        try:\n",
    "            connection.execute(text(insert_data_query).bindparams(**data))\n",
    "        except IntegrityError as e:\n",
    "            # Handle duplicate entry error by skipping the record\n",
    "            continue\n",
    "\n",
    "# Commit the changes to the database\n",
    "session.commit()\n",
    "\n",
    "# Define the SQL query to select the first 5 rows\n",
    "select_query = 'SELECT * FROM title_basics LIMIT 5'\n",
    "\n",
    "# Execute the query\n",
    "result = connection.execute(text(select_query))\n",
    "\n",
    "# Fetch and print the result\n",
    "for row in result:\n",
    "    print(row)"
   ]
  },
  {
   "cell_type": "code",
   "execution_count": 96,
   "id": "1b537427",
   "metadata": {},
   "outputs": [
    {
     "name": "stdout",
     "output_type": "stream",
     "text": [
      "(1, 'tt0175142', 6.3, 6446)\n",
      "(2, 'tt0120917', 7.6, 6163)\n",
      "(3, 'tt0195714', 6.6, 5158)\n",
      "(4, 'tt0130623', 6.5, 2312)\n",
      "(5, 'tt0120755', 6.1, 6205)\n"
     ]
    }
   ],
   "source": [
    "insert_data_query = '''\n",
    "    INSERT INTO title_ratings (tconst, average_rating, num_votes)\n",
    "    VALUES (:tconst, :average_rating, :num_votes)\n",
    "'''\n",
    "\n",
    "\n",
    "for index, row in df.iterrows():\n",
    "    # Skip rows where 'tconst' is null or NaN\n",
    "    if pd.notna(row['tconst']):\n",
    "        data = {\n",
    "            'tconst': row['tconst'],\n",
    "            'average_rating': row['vote_average'],\n",
    "            'num_votes': row['vote_count'],\n",
    "        }\n",
    "        try:\n",
    "            connection.execute(text(insert_data_query).bindparams(**data))\n",
    "        except IntegrityError as e:\n",
    "            # Handle duplicate entry error by skipping the record\n",
    "            continue\n",
    "\n",
    "# Commit the changes to the database\n",
    "session.commit()\n",
    "\n",
    "# Define the SQL query to select the first 5 rows\n",
    "select_query = 'SELECT * FROM title_ratings LIMIT 5'\n",
    "\n",
    "# Execute the query\n",
    "result = connection.execute(text(select_query))\n",
    "\n",
    "# Fetch and print the result\n",
    "for row in result:\n",
    "    print(row)"
   ]
  },
  {
   "cell_type": "code",
   "execution_count": 97,
   "id": "77a099b6",
   "metadata": {},
   "outputs": [],
   "source": [
    "# Function to safely convert string representation of lists to actual lists\n",
    "def safe_literal_eval(value):\n",
    "    try:\n",
    "        return ast.literal_eval(value)\n",
    "    except (SyntaxError, ValueError):\n",
    "        return value\n",
    "\n",
    "# Apply the safe literal eval function to the 'genres' column\n",
    "df['genres'] = df['genres'].apply(safe_literal_eval)\n",
    "\n",
    "# Extracting genres and their ids from the 'genres' column\n",
    "all_genres_with_id = [(genre['id'], genre['name']) for genres_list in df['genres'] for genre in genres_list if isinstance(genre, dict)]\n",
    "\n",
    "# Remove duplicates by converting the list to a set and then back to a list\n",
    "unique_genres_with_id = list(set(all_genres_with_id))\n",
    "\n",
    "# Convert the list to the desired format\n",
    "unique_genres_dict = {genre[0]: genre[1] for genre in unique_genres_with_id}\n",
    "\n",
    "# Define the Genre table\n",
    "metadata = MetaData()\n",
    "genre_table = Table('genres', metadata,\n",
    "                   Column('genre_id', Integer, primary_key=True),\n",
    "                   Column('genre_name', String)\n",
    "                   )\n",
    "\n",
    "# Create the table (if it doesn't exist)\n",
    "metadata.create_all(engine)\n",
    "\n",
    "# Use a session to insert data into the table\n",
    "Session = sessionmaker(bind=engine)\n",
    "session = Session()\n",
    "\n",
    "# Insert unique genres into the 'genre' table\n",
    "for genre_id, genre_name in unique_genres_dict.items():\n",
    "    session.execute(genre_table.insert().values(genre_id=genre_id, genre_name=genre_name))\n",
    "\n",
    "# Commit the changes\n",
    "session.commit()"
   ]
  },
  {
   "cell_type": "code",
   "execution_count": 40,
   "id": "c65fa4ed",
   "metadata": {},
   "outputs": [
    {
     "name": "stdout",
     "output_type": "stream",
     "text": [
      "(12, 'Adventure')\n",
      "(14, 'Fantasy')\n",
      "(16, 'Animation')\n",
      "(18, 'Drama')\n",
      "(27, 'Horror')\n"
     ]
    }
   ],
   "source": [
    "# Define the SQL query to select the first 5 rows\n",
    "select_query = 'SELECT * FROM genres LIMIT 5'\n",
    "\n",
    "\n",
    "try:\n",
    "    result = connection.execute(text(select_query))\n",
    "\n",
    "    # Fetch and print the result\n",
    "    for row in result:\n",
    "        print(row)\n",
    "\n",
    "except Exception as e:\n",
    "    print(f\"Error: {e}\")"
   ]
  },
  {
   "cell_type": "code",
   "execution_count": 98,
   "id": "f8a20eac",
   "metadata": {},
   "outputs": [
    {
     "name": "stdout",
     "output_type": "stream",
     "text": [
      "           tconst                genre_ids\n",
      "0       tt0175142                     [35]\n",
      "1       tt0120917  [12, 16, 35, 10751, 14]\n",
      "2       tt0195714                     [27]\n",
      "3       tt0130623              [10751, 16]\n",
      "4       tt0120755             [12, 28, 53]\n",
      "...           ...                      ...\n",
      "173757  tt0277713                     [35]\n",
      "174899  tt0304628                     [18]\n",
      "176042  tt0261236                 [18, 35]\n",
      "177186  tt0278443                     [35]\n",
      "178331  tt0284470                     [18]\n",
      "\n",
      "[1119 rows x 2 columns]\n"
     ]
    }
   ],
   "source": [
    "\n",
    "# Function to extract genre ids\n",
    "def extract_genre_ids(genre_list):\n",
    "    return [genre['id'] for genre in genre_list]\n",
    "\n",
    "# Apply the function to create a new 'genre_ids' column\n",
    "df['genre_ids'] = df['genres'].apply(extract_genre_ids)\n",
    "\n",
    "# Display the DataFrame\n",
    "print(df[['tconst', 'genre_ids']])\n",
    "\n",
    "# Explode the 'genre_ids' column to create individual rows for each genre ID\n",
    "df_exploded = df.explode('genre_ids')\n",
    "\n",
    "df_exploded.rename(columns={'tconst': 'title_id', 'genre_ids': 'genre_id'}, inplace=True)\n",
    "\n",
    "# Drop rows where 'title_id' is NULL\n",
    "df_exploded_cleaned = df_exploded.dropna(subset=['title_id'])\n",
    "\n",
    "# Insert data into the title_genres table\n",
    "df_exploded_cleaned[['title_id', 'genre_id']].to_sql('title_genres', con=engine, if_exists='append', index=False)\n",
    "\n",
    "\n",
    "\n"
   ]
  },
  {
   "cell_type": "code",
   "execution_count": 7,
   "id": "6363a03d",
   "metadata": {},
   "outputs": [
    {
     "name": "stdout",
     "output_type": "stream",
     "text": [
      "('tt0175142', 35)\n",
      "('tt0120917', 12)\n",
      "('tt0120917', 16)\n",
      "('tt0120917', 35)\n",
      "('tt0120917', 10751)\n",
      "('tt0120917', 14)\n",
      "('tt0195714', 27)\n",
      "('tt0130623', 10751)\n",
      "('tt0130623', 16)\n",
      "('tt0120755', 12)\n"
     ]
    }
   ],
   "source": [
    "# Define the SQL query to select the first 5 rows\n",
    "select_query = 'SELECT * FROM title_genres LIMIT 10'\n",
    "\n",
    "\n",
    "try:\n",
    "    result = connection.execute(text(select_query))\n",
    "\n",
    "    # Fetch and print the result\n",
    "    for row in result:\n",
    "        print(row)\n",
    "\n",
    "except Exception as e:\n",
    "    print(f\"Error: {e}\")"
   ]
  },
  {
   "cell_type": "code",
   "execution_count": 99,
   "id": "c926b199",
   "metadata": {},
   "outputs": [],
   "source": [
    "# Select only the required columns\n",
    "selected_columns = ['tconst', 'revenue', 'budget', 'mpaa_rating']\n",
    "df_selected = df[selected_columns]\n",
    "\n",
    "# Specify the table name (tmdb_data) and the engine\n",
    "table_name = 'tmdb_data'\n",
    "\n",
    "# Use the to_sql method to insert data into the table\n",
    "df_selected.to_sql(name=table_name, con=engine, if_exists='replace', index=False)"
   ]
  },
  {
   "cell_type": "code",
   "execution_count": 69,
   "id": "f7164cbc",
   "metadata": {},
   "outputs": [
    {
     "name": "stdout",
     "output_type": "stream",
     "text": [
      "('tt0175142', 278019771, 19000000, 'R')\n",
      "('tt0120917', 169327687, 100000000, 'G')\n",
      "('tt0195714', 112880294, 23000000, None)\n",
      "('tt0130623', 354248063, 127500000, 'PG')\n",
      "('tt0120755', 546388105, 125000000, 'PG-13')\n",
      "('tt0134084', 161834276, 40000000, 'R')\n",
      "('tt0138749', 76432727, 95000000, 'PG')\n",
      "('tt0209144', 39723096, 9000000, 'R')\n",
      "('tt0187078', 237202299, 90000000, 'PG-13')\n",
      "('tt0162222', 429632142, 90000000, 'PG-13')\n"
     ]
    }
   ],
   "source": [
    "# Define the SQL query to select the first 5 rows\n",
    "select_query = 'SELECT * FROM tmdb_data LIMIT 10'\n",
    "\n",
    "\n",
    "try:\n",
    "    result = connection.execute(text(select_query))\n",
    "\n",
    "    # Fetch and print the result\n",
    "    for row in result:\n",
    "        print(row)\n",
    "\n",
    "except Exception as e:\n",
    "    print(f\"Error: {e}\")"
   ]
  }
 ],
 "metadata": {
  "kernelspec": {
   "display_name": "Python 3 (ipykernel)",
   "language": "python",
   "name": "python3"
  },
  "language_info": {
   "codemirror_mode": {
    "name": "ipython",
    "version": 3
   },
   "file_extension": ".py",
   "mimetype": "text/x-python",
   "name": "python",
   "nbconvert_exporter": "python",
   "pygments_lexer": "ipython3",
   "version": "3.10.7"
  }
 },
 "nbformat": 4,
 "nbformat_minor": 5
}
