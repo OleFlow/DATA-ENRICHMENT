{
 "cells": [
  {
   "cell_type": "code",
   "execution_count": 14,
   "id": "820be56d",
   "metadata": {},
   "outputs": [
    {
     "name": "stdout",
     "output_type": "stream",
     "text": [
      "Average weight of superheroes with Super Speed: nan\n",
      "Average weight of superheroes without Super Speed: nan\n",
      "Average height of heroes by publisher:\n",
      "Hero|Publisher\n",
      "A-Bomb|Marvel Comics            NaN\n",
      "Abe Sapien|Dark Horse Comics    NaN\n",
      "Abin Sur|DC Comics              NaN\n",
      "Abomination|Marvel Comics       NaN\n",
      "Absorbing Man|Marvel Comics     NaN\n",
      "                                 ..\n",
      "Yellowjacket II|Marvel Comics   NaN\n",
      "Yellowjacket|Marvel Comics      NaN\n",
      "Yoda|George Lucas               NaN\n",
      "Zatanna|DC Comics               NaN\n",
      "Zoom|DC Comics                  NaN\n",
      "Name: Height, Length: 457, dtype: float64\n"
     ]
    }
   ],
   "source": [
    "import pandas as pd\n",
    "\n",
    "# Load the datasets\n",
    "info_df = pd.read_csv(\"DataFiles/superhero_info - superhero_info.csv\")\n",
    "powers_df = pd.read_csv(\"DataFiles/superhero_powers - superhero_powers.csv\")\n",
    "\n",
    "# Merge the datasets on the 'Hero' column\n",
    "combined_df = pd.merge(info_df, powers_df, left_on='Hero|Publisher', right_on='hero_names', how='left')\n",
    "\n",
    "# Drop redundant columns\n",
    "combined_df.drop(['hero_names'], axis=1, inplace=True)\n",
    "\n",
    "# Extract numeric values from 'Measurements' column and create 'Height' and 'Weight' columns\n",
    "measurements_df = combined_df['Measurements'].str.extract('(?P<Height>\\d+\\.\\d+|\\d+) cm (?P<Weight>\\d+\\.\\d+|\\d+) kg')\n",
    "combined_df = pd.concat([combined_df, measurements_df], axis=1)\n",
    "\n",
    "# Convert 'Height' and 'Weight' to numeric\n",
    "combined_df['Height'] = pd.to_numeric(combined_df['Height'])\n",
    "combined_df['Weight'] = pd.to_numeric(combined_df['Weight'])\n",
    "\n",
    "# Drop the original 'Measurements' column\n",
    "combined_df.drop(['Measurements'], axis=1, inplace=True)\n",
    "\n",
    "# Fill NaN values in powers columns with 0,\n",
    "powers_list = powers_df['Powers'].str.get_dummies(sep=', ')\n",
    "combined_df = pd.concat([combined_df, powers_list], axis=1)\n",
    "combined_df.update(combined_df.filter(like='_power').fillna(0))\n",
    "\n",
    "# Identify superheroes with Super Speed power\n",
    "#its a bit confusing here since theres no super speed column\n",
    "combined_df['Super Speed'] = combined_df['Powers'].apply(lambda x: 1 if 'Super Speed' in str(x) else 0)\n",
    "\n",
    "# Calculate the average weight for superheroes with Super Speed and those without\n",
    "super_speed_avg_weight = combined_df.loc[combined_df['Super Speed'] == 1, 'Weight'].mean()\n",
    "non_super_speed_avg_weight = combined_df.loc[combined_df['Super Speed'] == 0, 'Weight'].mean()\n",
    "\n",
    "print(\"Average weight of superheroes with Super Speed:\", super_speed_avg_weight)\n",
    "print(\"Average weight of superheroes without Super Speed:\", non_super_speed_avg_weight)\n",
    "\n",
    "# Calculate the average height of heroes for each publisher\n",
    "average_height_by_publisher = combined_df.groupby('Hero|Publisher')['Height'].mean()\n",
    "print(\"Average height of heroes by publisher:\")\n",
    "print(average_height_by_publisher)"
   ]
  },
  {
   "cell_type": "code",
   "execution_count": null,
   "id": "77597d4e",
   "metadata": {},
   "outputs": [],
   "source": []
  }
 ],
 "metadata": {
  "kernelspec": {
   "display_name": "Python 3 (ipykernel)",
   "language": "python",
   "name": "python3"
  },
  "language_info": {
   "codemirror_mode": {
    "name": "ipython",
    "version": 3
   },
   "file_extension": ".py",
   "mimetype": "text/x-python",
   "name": "python",
   "nbconvert_exporter": "python",
   "pygments_lexer": "ipython3",
   "version": "3.11.5"
  }
 },
 "nbformat": 4,
 "nbformat_minor": 5
}
