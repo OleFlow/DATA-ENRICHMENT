{
 "cells": [
  {
   "cell_type": "code",
   "execution_count": 1,
   "id": "2a457e1f",
   "metadata": {},
   "outputs": [],
   "source": [
    "import pandas as pd\n"
   ]
  },
  {
   "cell_type": "code",
   "execution_count": 4,
   "id": "d0b8648e",
   "metadata": {},
   "outputs": [
    {
     "name": "stderr",
     "output_type": "stream",
     "text": [
      "/var/folders/yv/3r5q4kxx5m7267r_4tjwtl9c0000gp/T/ipykernel_14745/312481297.py:3: DtypeWarning: Columns (4) have mixed types. Specify dtype option on import or set low_memory=False.\n",
      "  basics = pd.read_csv('DataFiles/title.basics.tsv.gz', sep='\\t', compression='gzip')\n",
      "/var/folders/yv/3r5q4kxx5m7267r_4tjwtl9c0000gp/T/ipykernel_14745/312481297.py:5: DtypeWarning: Columns (7) have mixed types. Specify dtype option on import or set low_memory=False.\n",
      "  akas = pd.read_csv('DataFiles/title.akas.tsv.gz', sep='\\t', compression='gzip')\n"
     ]
    }
   ],
   "source": [
    "#Load our data\n",
    "\n",
    "basics = pd.read_csv('DataFiles/title.basics.tsv.gz', sep='\\t', compression='gzip')\n",
    "ratings = pd.read_csv('DataFiles/title.ratings.tsv.gz', sep='\\t', compression='gzip')\n",
    "akas = pd.read_csv('DataFiles/title.akas.tsv.gz', sep='\\t', compression='gzip')"
   ]
  },
  {
   "cell_type": "code",
   "execution_count": 24,
   "id": "027635df",
   "metadata": {
    "scrolled": true
   },
   "outputs": [
    {
     "name": "stdout",
     "output_type": "stream",
     "text": [
      "Index(['tconst', 'titleType', 'primaryTitle', 'originalTitle', 'isAdult',\n",
      "       'startYear', 'endYear', 'runtimeMinutes', 'genres'],\n",
      "      dtype='object')\n",
      "Index(['tconst', 'averageRating', 'numVotes'], dtype='object')\n",
      "Index(['titleId', 'ordering', 'title', 'region', 'language', 'types',\n",
      "       'attributes', 'isOriginalTitle'],\n",
      "      dtype='object')\n"
     ]
    }
   ],
   "source": [
    "# Convert 'startYear' to numeric\n",
    "basics['startYear'] = pd.to_numeric(basics['startYear'], errors='coerce')\n",
    "print(basics.columns)\n",
    "print(ratings.columns)\n",
    "print(akas.columns)\n"
   ]
  },
  {
   "cell_type": "code",
   "execution_count": 26,
   "id": "70f67ac6",
   "metadata": {},
   "outputs": [],
   "source": [
    "# Apply filters\n",
    "filtered_basics = basics.dropna(subset=['genres', 'runtimeMinutes'])\n",
    "filtered_basics = filtered_basics[(filtered_basics['titleType'] == 'movie') & (filtered_basics['genres'] != 'Documentary')]\n",
    "filtered_basics = filtered_basics[(filtered_basics['startYear'] >= 2000) & (filtered_basics['startYear'] <= 2021)]\n",
    "\n",
    "filter_akas = akas\n",
    "filter_akas = filter_akas[filter_akas['region'] == 'US']"
   ]
  },
  {
   "cell_type": "code",
   "execution_count": 32,
   "id": "e5080afb",
   "metadata": {},
   "outputs": [],
   "source": [
    "# Merge with ratings\n",
    "filtered_data = pd.merge(filtered_basics, ratings, on='tconst', how='inner')\n",
    "# Merge DataFrames on columns with different names\n",
    "filtered_data = pd.merge(filtered_data, filter_akas, left_on='tconst', right_on='titleId')"
   ]
  },
  {
   "cell_type": "code",
   "execution_count": 33,
   "id": "9610eec5",
   "metadata": {},
   "outputs": [
    {
     "name": "stdout",
     "output_type": "stream",
     "text": [
      "<class 'pandas.core.frame.DataFrame'>\n",
      "Index: 211638 entries, 11636 to 10302932\n",
      "Data columns (total 9 columns):\n",
      " #   Column          Non-Null Count   Dtype  \n",
      "---  ------          --------------   -----  \n",
      " 0   tconst          211638 non-null  object \n",
      " 1   titleType       211638 non-null  object \n",
      " 2   primaryTitle    211636 non-null  object \n",
      " 3   originalTitle   211636 non-null  object \n",
      " 4   isAdult         211638 non-null  object \n",
      " 5   startYear       211638 non-null  float64\n",
      " 6   endYear         211638 non-null  object \n",
      " 7   runtimeMinutes  211638 non-null  object \n",
      " 8   genres          211638 non-null  object \n",
      "dtypes: float64(1), object(8)\n",
      "memory usage: 16.1+ MB\n",
      "None\n",
      "<class 'pandas.core.frame.DataFrame'>\n",
      "RangeIndex: 1367491 entries, 0 to 1367490\n",
      "Data columns (total 3 columns):\n",
      " #   Column         Non-Null Count    Dtype  \n",
      "---  ------         --------------    -----  \n",
      " 0   tconst         1367491 non-null  object \n",
      " 1   averageRating  1367491 non-null  float64\n",
      " 2   numVotes       1367491 non-null  int64  \n",
      "dtypes: float64(1), int64(1), object(1)\n",
      "memory usage: 31.3+ MB\n",
      "None\n",
      "<class 'pandas.core.frame.DataFrame'>\n",
      "RangeIndex: 91486 entries, 0 to 91485\n",
      "Data columns (total 19 columns):\n",
      " #   Column           Non-Null Count  Dtype  \n",
      "---  ------           --------------  -----  \n",
      " 0   tconst           91486 non-null  object \n",
      " 1   titleType        91486 non-null  object \n",
      " 2   primaryTitle     91486 non-null  object \n",
      " 3   originalTitle    91486 non-null  object \n",
      " 4   isAdult          91486 non-null  object \n",
      " 5   startYear        91486 non-null  float64\n",
      " 6   endYear          91486 non-null  object \n",
      " 7   runtimeMinutes   91486 non-null  object \n",
      " 8   genres           91486 non-null  object \n",
      " 9   averageRating    91486 non-null  float64\n",
      " 10  numVotes         91486 non-null  int64  \n",
      " 11  titleId          91486 non-null  object \n",
      " 12  ordering         91486 non-null  int64  \n",
      " 13  title            91486 non-null  object \n",
      " 14  region           91486 non-null  object \n",
      " 15  language         91486 non-null  object \n",
      " 16  types            91486 non-null  object \n",
      " 17  attributes       91486 non-null  object \n",
      " 18  isOriginalTitle  91486 non-null  object \n",
      "dtypes: float64(2), int64(2), object(15)\n",
      "memory usage: 13.3+ MB\n",
      "None\n"
     ]
    }
   ],
   "source": [
    "# Display final info\n",
    "print(filtered_basics.info())\n",
    "print(ratings.info())\n",
    "print(filter_akas.info())\n",
    "\n",
    "print(filtered_data.info())"
   ]
  },
  {
   "cell_type": "code",
   "execution_count": 34,
   "id": "71de0230",
   "metadata": {},
   "outputs": [],
   "source": [
    "# Save filtered data\n",
    "filtered_basics.to_csv('Data/filtered_basics.csv.gz', index=False, compression='gzip')\n",
    "ratings.to_csv('Data/ratings.csv.gz', index=False, compression='gzip')\n",
    "filtered_data.to_csv('Data/filtered_data.csv.gz', index=False, compression='gzip')"
   ]
  },
  {
   "cell_type": "code",
   "execution_count": null,
   "id": "2cbcc88a",
   "metadata": {},
   "outputs": [],
   "source": []
  }
 ],
 "metadata": {
  "kernelspec": {
   "display_name": "Python 3 (ipykernel)",
   "language": "python",
   "name": "python3"
  },
  "language_info": {
   "codemirror_mode": {
    "name": "ipython",
    "version": 3
   },
   "file_extension": ".py",
   "mimetype": "text/x-python",
   "name": "python",
   "nbconvert_exporter": "python",
   "pygments_lexer": "ipython3",
   "version": "3.11.5"
  }
 },
 "nbformat": 4,
 "nbformat_minor": 5
}
