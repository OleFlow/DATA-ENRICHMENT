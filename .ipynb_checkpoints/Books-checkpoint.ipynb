{
 "cells": [
  {
   "cell_type": "markdown",
   "id": "d30fc9d5",
   "metadata": {},
   "source": [
    " ![png](books.png)\n"
   ]
  },
  {
   "cell_type": "code",
   "execution_count": 6,
   "id": "fd93d19e",
   "metadata": {},
   "outputs": [],
   "source": [
    "import pymysql"
   ]
  },
  {
   "cell_type": "code",
   "execution_count": 7,
   "id": "3f4457ae",
   "metadata": {},
   "outputs": [
    {
     "name": "stdout",
     "output_type": "stream",
     "text": [
      "Tables in the 'books' database:\n",
      "authors\n",
      "books\n",
      "favorites\n",
      "users\n"
     ]
    }
   ],
   "source": [
    "# Connect to MySQL\n",
    "connection = pymysql.connect(\n",
    "    host='localhost',\n",
    "    user='root',\n",
    "    password='Queeneth@1992',\n",
    "    database='books' \n",
    ")\n",
    "\n",
    "# Create a cursor object\n",
    "cursor = connection.cursor()\n",
    "\n",
    "# Run the \"SHOW TABLES;\" query\n",
    "cursor.execute(\"SHOW TABLES;\")\n",
    "\n",
    "# Fetch and print the results\n",
    "tables = cursor.fetchall()\n",
    "print(\"Tables in the 'books' database:\")\n",
    "for table in tables:\n",
    "    print(table[0])"
   ]
  },
  {
   "cell_type": "code",
   "execution_count": 8,
   "id": "18353c44",
   "metadata": {},
   "outputs": [
    {
     "name": "stdout",
     "output_type": "stream",
     "text": [
      "Titles of John Doe's favorite books:\n",
      "The Shining\n",
      "It\n",
      "The Great Gatsby\n"
     ]
    }
   ],
   "source": [
    "# Run the query to list John Doe's favorite books\n",
    "cursor.execute(\"\"\"\n",
    "    SELECT b.title\n",
    "    FROM users u\n",
    "    JOIN favorites f ON u.id = f.user_id\n",
    "    JOIN books b ON f.book_id = b.id\n",
    "    WHERE u.first_name = 'John' AND u.last_name = 'Doe';\n",
    "\"\"\")\n",
    "\n",
    "# Fetch and print the results\n",
    "favorite_books = cursor.fetchall()\n",
    "print(\"Titles of John Doe's favorite books:\")\n",
    "for book in favorite_books:\n",
    "    print(book[0])"
   ]
  },
  {
   "cell_type": "code",
   "execution_count": 9,
   "id": "dee6ecc8",
   "metadata": {},
   "outputs": [],
   "source": [
    "# Close the cursor and connection\n",
    "cursor.close()\n",
    "connection.close()"
   ]
  },
  {
   "cell_type": "code",
   "execution_count": null,
   "id": "61f47991",
   "metadata": {},
   "outputs": [],
   "source": []
  }
 ],
 "metadata": {
  "kernelspec": {
   "display_name": "Python 3 (ipykernel)",
   "language": "python",
   "name": "python3"
  },
  "language_info": {
   "codemirror_mode": {
    "name": "ipython",
    "version": 3
   },
   "file_extension": ".py",
   "mimetype": "text/x-python",
   "name": "python",
   "nbconvert_exporter": "python",
   "pygments_lexer": "ipython3",
   "version": "3.11.5"
  }
 },
 "nbformat": 4,
 "nbformat_minor": 5
}
